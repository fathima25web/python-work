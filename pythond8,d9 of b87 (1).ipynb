{
 "cells": [
  {
   "cell_type": "code",
   "execution_count": null,
   "id": "b49387c3-39b5-4cbc-83e4-a42bd6e38a37",
   "metadata": {},
   "outputs": [],
   "source": [
    "Intro to conditional statement:\n",
    "If statement...."
   ]
  },
  {
   "cell_type": "code",
   "execution_count": 1,
   "id": "99e375f8-bd10-4e7c-894d-64f8321d37a5",
   "metadata": {},
   "outputs": [],
   "source": [
    "cars=['audi','bmw','hundai','toyota','kia','suzuki','maruti']"
   ]
  },
  {
   "cell_type": "code",
   "execution_count": 2,
   "id": "ffd51e88-1c4a-4b3c-bf0c-0ff9be6e1a4b",
   "metadata": {},
   "outputs": [
    {
     "name": "stdout",
     "output_type": "stream",
     "text": [
      "['audi', 'bmw', 'hundai', 'toyota', 'kia', 'suzuki', 'maruti']\n"
     ]
    }
   ],
   "source": [
    "print(cars)"
   ]
  },
  {
   "cell_type": "code",
   "execution_count": 3,
   "id": "cd94b713-adb6-453c-9c2c-380d2528c691",
   "metadata": {},
   "outputs": [
    {
     "data": {
      "text/plain": [
       "list"
      ]
     },
     "execution_count": 3,
     "metadata": {},
     "output_type": "execute_result"
    }
   ],
   "source": [
    "type(cars)"
   ]
  },
  {
   "cell_type": "code",
   "execution_count": null,
   "id": "a3a62ef1-4cc0-4e15-8c3f-2e4b4014bc0f",
   "metadata": {},
   "outputs": [],
   "source": [
    "#req:to get suzuki in caps and restall should be printed in title case.."
   ]
  },
  {
   "cell_type": "code",
   "execution_count": 5,
   "id": "18eb2bba-99ef-4407-b931-2291de7e661d",
   "metadata": {},
   "outputs": [
    {
     "name": "stdout",
     "output_type": "stream",
     "text": [
      "Audi\n",
      "Bmw\n",
      "Hundai\n",
      "Toyota\n",
      "Kia\n",
      "SUZUKI\n",
      "Maruti\n"
     ]
    }
   ],
   "source": [
    "for a in cars:\n",
    "    if a=='suzuki':\n",
    "        print(a.upper())\n",
    "    else:\n",
    "        print(a.title())"
   ]
  },
  {
   "cell_type": "code",
   "execution_count": null,
   "id": "2c5ca478-84b8-4b8f-a018-3dafe4c1890a",
   "metadata": {},
   "outputs": [],
   "source": [
    "#req:building an voting application.."
   ]
  },
  {
   "cell_type": "code",
   "execution_count": 6,
   "id": "b93388a8-2371-43db-9a8f-922150e5dd89",
   "metadata": {},
   "outputs": [],
   "source": [
    "age=19"
   ]
  },
  {
   "cell_type": "code",
   "execution_count": 7,
   "id": "26551e8f-2fa6-4ed5-b94f-557cc4eb3592",
   "metadata": {},
   "outputs": [
    {
     "data": {
      "text/plain": [
       "int"
      ]
     },
     "execution_count": 7,
     "metadata": {},
     "output_type": "execute_result"
    }
   ],
   "source": [
    "type(age)"
   ]
  },
  {
   "cell_type": "code",
   "execution_count": 10,
   "id": "c3131b79-7a05-43a9-9a69-29eab00ec351",
   "metadata": {},
   "outputs": [
    {
     "name": "stdout",
     "output_type": "stream",
     "text": [
      "you are eligible to vote\n"
     ]
    }
   ],
   "source": [
    "if age>=18:\n",
    "    print(\"you are eligible to vote\")\n",
    "else:\n",
    "    print(\"not eligible,try next year\")"
   ]
  },
  {
   "cell_type": "code",
   "execution_count": 9,
   "id": "444885be-bda8-45b9-9884-0a7821d74386",
   "metadata": {},
   "outputs": [],
   "source": [
    "Understanding concept of user input:"
   ]
  },
  {
   "cell_type": "code",
   "execution_count": 3,
   "id": "7d4b2ba9-769b-4650-b859-8007ca131d3b",
   "metadata": {},
   "outputs": [
    {
     "name": "stdin",
     "output_type": "stream",
     "text": [
      "tell me something and i will repeat it back for you fathima\n"
     ]
    },
    {
     "name": "stdout",
     "output_type": "stream",
     "text": [
      "fathima\n"
     ]
    }
   ],
   "source": [
    "message=input(\"tell me something and i will repeat it back for you\")\n",
    "print(message)"
   ]
  },
  {
   "cell_type": "code",
   "execution_count": null,
   "id": "94a3af9c-ef3c-469b-bcb6-b690d249b78b",
   "metadata": {},
   "outputs": [],
   "source": [
    "#req:to greet the user based on the input..."
   ]
  },
  {
   "cell_type": "code",
   "execution_count": 5,
   "id": "beafb050-a272-4631-87ae-2d0ea4ff35ca",
   "metadata": {},
   "outputs": [
    {
     "name": "stdin",
     "output_type": "stream",
     "text": [
      "please enter your name: syed\n"
     ]
    },
    {
     "name": "stdout",
     "output_type": "stream",
     "text": [
      "\n",
      " Hello,syed!\n"
     ]
    }
   ],
   "source": [
    "name=input(\"please enter your name:\")\n",
    "print(f\"\\n Hello,{name}!\")"
   ]
  },
  {
   "cell_type": "code",
   "execution_count": 7,
   "id": "c3e39921-1726-43a7-ad2c-c1725f7b49ad",
   "metadata": {},
   "outputs": [
    {
     "name": "stdin",
     "output_type": "stream",
     "text": [
      "How old are you? 21\n"
     ]
    },
    {
     "name": "stdout",
     "output_type": "stream",
     "text": [
      "you are eligible to vote\n"
     ]
    }
   ],
   "source": [
    "age=input(\"How old are you?\")\n",
    "age=int(age)#converting string inti int\n",
    "if age>=18:\n",
    "    print(\"you are eligible to vote\")\n",
    "else:\n",
    "    print(\"you are not eligible to vote\")"
   ]
  },
  {
   "cell_type": "code",
   "execution_count": null,
   "id": "b0bb8a6a-0264-464a-8d92-fd110182d9cf",
   "metadata": {},
   "outputs": [],
   "source": [
    "#req:if given number by the user,i want to find wheather its even or odd."
   ]
  },
  {
   "cell_type": "code",
   "execution_count": 9,
   "id": "125397da-ee53-4c41-9502-c45e69726bf0",
   "metadata": {},
   "outputs": [
    {
     "name": "stdin",
     "output_type": "stream",
     "text": [
      "Enter a number,i will tell you its even or odd!! 2\n"
     ]
    },
    {
     "name": "stdout",
     "output_type": "stream",
     "text": [
      "\n",
      " the number2 is odd.\n"
     ]
    }
   ],
   "source": [
    "number=input(\"Enter a number,i will tell you its even or odd!!\")\n",
    "number=int(number)\n",
    "if number/2==0:\n",
    "    print(f\"\\nIt is even{number} number.\")\n",
    "else:\n",
    "    print(f\"\\n the number{number} is odd.\")"
   ]
  },
  {
   "cell_type": "code",
   "execution_count": null,
   "id": "91b9c17f-bf64-4886-9342-377c928aecc3",
   "metadata": {},
   "outputs": [],
   "source": [
    "Introduction to python function:\n",
    "how to define:def\n",
    "for giving a function nameuse small case letters."
   ]
  },
  {
   "cell_type": "code",
   "execution_count": 10,
   "id": "5e8fb68f-e037-49c4-b063-44d7d31599d5",
   "metadata": {},
   "outputs": [],
   "source": [
    "def greet():#this port called as defining the function\n",
    "    \"\"\"this function will greet the user\"\"\"#this is doc string"
   ]
  },
  {
   "cell_type": "code",
   "execution_count": 11,
   "id": "7c990aaf-6d35-4fe6-bf28-948e827d230c",
   "metadata": {},
   "outputs": [
    {
     "name": "stdout",
     "output_type": "stream",
     "text": [
      "Hello\n"
     ]
    }
   ],
   "source": [
    "print(\"Hello\")\n",
    "greet()#function call"
   ]
  },
  {
   "cell_type": "code",
   "execution_count": 16,
   "id": "b41c666a-4a95-42be-8718-31e311fa18a5",
   "metadata": {},
   "outputs": [
    {
     "ename": "SyntaxError",
     "evalue": "unterminated string literal (detected at line 3) (644575696.py, line 3)",
     "output_type": "error",
     "traceback": [
      "\u001b[1;36m  Cell \u001b[1;32mIn[16], line 3\u001b[1;36m\u001b[0m\n\u001b[1;33m    print(hello\")\u001b[0m\n\u001b[1;37m               ^\u001b[0m\n\u001b[1;31mSyntaxError\u001b[0m\u001b[1;31m:\u001b[0m unterminated string literal (detected at line 3)\n"
     ]
    }
   ],
   "source": [
    "\n",
    "   "
   ]
  },
  {
   "cell_type": "code",
   "execution_count": 17,
   "id": "c24e3c05-e934-49e8-856c-c497ddcf5f09",
   "metadata": {},
   "outputs": [
    {
     "ename": "SyntaxError",
     "evalue": "unterminated string literal (detected at line 1) (1783929787.py, line 1)",
     "output_type": "error",
     "traceback": [
      "\u001b[1;36m  Cell \u001b[1;32mIn[17], line 1\u001b[1;36m\u001b[0m\n\u001b[1;33m    print(hello\")\u001b[0m\n\u001b[1;37m               ^\u001b[0m\n\u001b[1;31mSyntaxError\u001b[0m\u001b[1;31m:\u001b[0m unterminated string literal (detected at line 1)\n"
     ]
    }
   ],
   "source": [
    " print(hello\")\n",
    "    greet_user()"
   ]
  },
  {
   "cell_type": "code",
   "execution_count": 18,
   "id": "12f29af7-f119-4441-8de9-80aa1f604d40",
   "metadata": {},
   "outputs": [],
   "source": [
    "def greet_user():\n",
    "    \"\"\"display a simple greeting\"\"\""
   ]
  },
  {
   "cell_type": "code",
   "execution_count": 19,
   "id": "56664804-1449-437b-b8ae-12083b2cccc9",
   "metadata": {},
   "outputs": [
    {
     "name": "stdout",
     "output_type": "stream",
     "text": [
      "hello\n"
     ]
    }
   ],
   "source": [
    "print(\"hello\")\n",
    "greet_user()"
   ]
  },
  {
   "cell_type": "code",
   "execution_count": 32,
   "id": "2a1ab125-6bcf-4a65-b7cf-3ced49b45fa3",
   "metadata": {},
   "outputs": [],
   "source": [
    "def greet_user(username):#parameter declaration\n",
    "    \"\"\"display a simple greeting\"\"\"\n",
    "    print(f\"hello,{username.title()}\")\n",
    "    "
   ]
  },
  {
   "cell_type": "code",
   "execution_count": 33,
   "id": "fadfff32-f66b-4a44-aad1-cff246f65c3c",
   "metadata": {},
   "outputs": [
    {
     "name": "stdout",
     "output_type": "stream",
     "text": [
      "hello,Anil\n"
     ]
    }
   ],
   "source": [
    "greet_user('anil')#arguments passing\n"
   ]
  },
  {
   "cell_type": "code",
   "execution_count": 34,
   "id": "f97a2092-289c-4c87-9bfe-deb81d25e78b",
   "metadata": {},
   "outputs": [
    {
     "name": "stdout",
     "output_type": "stream",
     "text": [
      "hello,Arshad\n"
     ]
    }
   ],
   "source": [
    "greet_user('arshad')"
   ]
  },
  {
   "cell_type": "code",
   "execution_count": null,
   "id": "cfd9de2c-5f9d-4d3c-adbf-411e56437da6",
   "metadata": {},
   "outputs": [],
   "source": [
    "Types of arguments::\n",
    "\n",
    "1.positional argument\n",
    "2.keyword argument\n",
    "3.arbitary argument"
   ]
  },
  {
   "cell_type": "code",
   "execution_count": null,
   "id": "c275a276-dcf4-4c6d-9210-6a7c2c2fd9d6",
   "metadata": {},
   "outputs": [],
   "source": [
    "defining the function:\n",
    "#req:define a function with namedescribe_pet which takes2 parameter pet_name & pet_type.."
   ]
  },
  {
   "cell_type": "code",
   "execution_count": 35,
   "id": "100adf16-83e9-46c3-8665-9a590a0349ae",
   "metadata": {},
   "outputs": [],
   "source": [
    "def describe_pet(animal_type,pet_name):\n",
    "    \"\"\"describe the information about pet\"\"\"\n",
    "    print(f\"\\n I have a{animal_type}\")\n",
    "    print(f\"my {animal_type}'s name is{pet_name}\")"
   ]
  },
  {
   "cell_type": "code",
   "execution_count": 36,
   "id": "eef5ed74-3d81-4ff9-a5e4-da4f5c94c109",
   "metadata": {},
   "outputs": [
    {
     "name": "stdout",
     "output_type": "stream",
     "text": [
      "\n",
      " I have adog\n",
      "my dog's name isbruno\n"
     ]
    }
   ],
   "source": [
    "describe_pet('dog','bruno')"
   ]
  },
  {
   "cell_type": "code",
   "execution_count": 37,
   "id": "140aeac2-c31e-4ea3-af46-0cc60fa10438",
   "metadata": {},
   "outputs": [
    {
     "name": "stdout",
     "output_type": "stream",
     "text": [
      "\n",
      " I have acat\n",
      "my cat's name isrex\n"
     ]
    }
   ],
   "source": [
    "describe_pet('cat','rex')"
   ]
  },
  {
   "cell_type": "code",
   "execution_count": null,
   "id": "03245490-f729-4a42-9885-383b42ba8dfd",
   "metadata": {},
   "outputs": [],
   "source": [
    "describe_pet('sweety"
   ]
  },
  {
   "cell_type": "code",
   "execution_count": null,
   "id": "f1554756-f93b-4772-98aa-bab934c469eb",
   "metadata": {},
   "outputs": [],
   "source": []
  },
  {
   "cell_type": "code",
   "execution_count": null,
   "id": "3d91e614-efa2-4528-a5ce-c403e8f28b40",
   "metadata": {},
   "outputs": [],
   "source": []
  },
  {
   "cell_type": "code",
   "execution_count": null,
   "id": "c3c3abca-7d25-4579-97fb-0c1edb35b35b",
   "metadata": {},
   "outputs": [],
   "source": []
  },
  {
   "cell_type": "code",
   "execution_count": null,
   "id": "11294fe1-9284-49c8-8df1-65af1353db73",
   "metadata": {},
   "outputs": [],
   "source": []
  },
  {
   "cell_type": "code",
   "execution_count": null,
   "id": "730436c4-40a5-41a9-8a1f-84e44dfbb7c4",
   "metadata": {},
   "outputs": [],
   "source": []
  },
  {
   "cell_type": "code",
   "execution_count": null,
   "id": "df50c49f-aae9-49a8-b2b7-5a74fefd5433",
   "metadata": {},
   "outputs": [],
   "source": []
  },
  {
   "cell_type": "code",
   "execution_count": null,
   "id": "4fe32d24-8cdf-4240-bfde-9e0ff7458e54",
   "metadata": {},
   "outputs": [],
   "source": []
  },
  {
   "cell_type": "code",
   "execution_count": null,
   "id": "18083ad1-c46a-4015-a29c-ce214d6ede3f",
   "metadata": {},
   "outputs": [],
   "source": []
  },
  {
   "cell_type": "code",
   "execution_count": null,
   "id": "da3d2dca-1387-4a58-a8ed-c2aa63f6977b",
   "metadata": {},
   "outputs": [],
   "source": []
  },
  {
   "cell_type": "code",
   "execution_count": null,
   "id": "8d2dba02-f2cf-4122-81ad-727901d70042",
   "metadata": {},
   "outputs": [],
   "source": []
  },
  {
   "cell_type": "code",
   "execution_count": null,
   "id": "87bdb239-b784-47f2-88a2-8dce947fcac6",
   "metadata": {},
   "outputs": [],
   "source": []
  },
  {
   "cell_type": "code",
   "execution_count": null,
   "id": "f256b58c-4e0f-40c9-ba4c-cbbbfd08766f",
   "metadata": {},
   "outputs": [],
   "source": []
  },
  {
   "cell_type": "code",
   "execution_count": null,
   "id": "ba078157-5941-44f2-a72b-1a0cfc9270d5",
   "metadata": {},
   "outputs": [],
   "source": []
  },
  {
   "cell_type": "code",
   "execution_count": null,
   "id": "c1693ab9-3bbb-4e59-9bb0-91dcf980e468",
   "metadata": {},
   "outputs": [],
   "source": []
  },
  {
   "cell_type": "code",
   "execution_count": null,
   "id": "b3a90349-a43e-4ee5-a752-d69fd5e132c6",
   "metadata": {},
   "outputs": [],
   "source": []
  },
  {
   "cell_type": "code",
   "execution_count": null,
   "id": "2544dc1f-17b2-4635-add9-36a90df68267",
   "metadata": {},
   "outputs": [],
   "source": []
  },
  {
   "cell_type": "code",
   "execution_count": null,
   "id": "42ba01c9-d8e0-42ce-b15a-d3727ae4520d",
   "metadata": {},
   "outputs": [],
   "source": []
  },
  {
   "cell_type": "code",
   "execution_count": null,
   "id": "3329b788-fcba-4cf8-9d76-8730d5c263d1",
   "metadata": {},
   "outputs": [],
   "source": []
  },
  {
   "cell_type": "code",
   "execution_count": null,
   "id": "64b9798f-8c1c-471e-818a-934b1f7bb831",
   "metadata": {},
   "outputs": [],
   "source": []
  },
  {
   "cell_type": "code",
   "execution_count": null,
   "id": "4bbc485f-0bb1-4bf3-bff0-8da979387876",
   "metadata": {},
   "outputs": [],
   "source": []
  },
  {
   "cell_type": "code",
   "execution_count": null,
   "id": "87c4505c-e0bf-4b35-899e-dc43799b4f11",
   "metadata": {},
   "outputs": [],
   "source": []
  },
  {
   "cell_type": "code",
   "execution_count": null,
   "id": "c54fbf19-e19a-4090-a63b-f19f76b6f837",
   "metadata": {},
   "outputs": [],
   "source": []
  },
  {
   "cell_type": "code",
   "execution_count": null,
   "id": "34699866-1174-46e3-ac97-377adb5d4a6d",
   "metadata": {},
   "outputs": [],
   "source": []
  },
  {
   "cell_type": "code",
   "execution_count": null,
   "id": "7f47b171-4b72-4666-8b07-85126d6a9195",
   "metadata": {},
   "outputs": [],
   "source": []
  },
  {
   "cell_type": "code",
   "execution_count": null,
   "id": "eb5e5aab-0c00-4f5a-be06-71690e13e04e",
   "metadata": {},
   "outputs": [],
   "source": []
  },
  {
   "cell_type": "code",
   "execution_count": null,
   "id": "3bbc68e2-5c5e-4831-8383-df370690237f",
   "metadata": {},
   "outputs": [],
   "source": []
  },
  {
   "cell_type": "code",
   "execution_count": null,
   "id": "9dd29d49-9371-4f3a-b7e7-8fd5238558ff",
   "metadata": {},
   "outputs": [],
   "source": []
  },
  {
   "cell_type": "code",
   "execution_count": null,
   "id": "271cce2f-ebe3-4e55-b4cc-5ba67162c133",
   "metadata": {},
   "outputs": [],
   "source": []
  },
  {
   "cell_type": "code",
   "execution_count": null,
   "id": "2c2c8406-f075-480e-89e7-2f252040eebf",
   "metadata": {},
   "outputs": [],
   "source": []
  },
  {
   "cell_type": "code",
   "execution_count": null,
   "id": "b10bb8b9-e1b2-4b8a-ac3c-3fd1d5a3a261",
   "metadata": {},
   "outputs": [],
   "source": []
  },
  {
   "cell_type": "code",
   "execution_count": null,
   "id": "336a4d07-e459-4cb3-9a18-ec23950ea2dc",
   "metadata": {},
   "outputs": [],
   "source": []
  },
  {
   "cell_type": "code",
   "execution_count": null,
   "id": "dc9ae819-c028-410c-9efe-0cb92a9bdb8c",
   "metadata": {},
   "outputs": [],
   "source": []
  },
  {
   "cell_type": "code",
   "execution_count": null,
   "id": "92619c98-dee7-43f7-ac23-e3c307ee1fc6",
   "metadata": {},
   "outputs": [],
   "source": []
  },
  {
   "cell_type": "code",
   "execution_count": null,
   "id": "7ecec688-95a6-49bd-ba62-8271d4487008",
   "metadata": {},
   "outputs": [],
   "source": []
  },
  {
   "cell_type": "code",
   "execution_count": null,
   "id": "f617f603-14da-4f04-80fb-865d71fb6973",
   "metadata": {},
   "outputs": [],
   "source": []
  },
  {
   "cell_type": "code",
   "execution_count": null,
   "id": "70ddc826-7172-4d3f-808c-1feac5a9f34c",
   "metadata": {},
   "outputs": [],
   "source": []
  },
  {
   "cell_type": "code",
   "execution_count": null,
   "id": "6612be76-8f39-4371-b8f6-eb502decca46",
   "metadata": {},
   "outputs": [],
   "source": []
  },
  {
   "cell_type": "code",
   "execution_count": null,
   "id": "5b757a1a-b8e5-47cb-9553-7e325942e6c2",
   "metadata": {},
   "outputs": [],
   "source": []
  },
  {
   "cell_type": "code",
   "execution_count": null,
   "id": "42eb5cf7-a6e9-4dcd-a517-00b08600ff52",
   "metadata": {},
   "outputs": [],
   "source": []
  },
  {
   "cell_type": "code",
   "execution_count": null,
   "id": "38852900-22af-4713-8d73-e61a7f46a5b9",
   "metadata": {},
   "outputs": [],
   "source": []
  },
  {
   "cell_type": "code",
   "execution_count": null,
   "id": "e499e05b-9f47-47a3-9d14-c3ca6fc6cc20",
   "metadata": {},
   "outputs": [],
   "source": []
  },
  {
   "cell_type": "code",
   "execution_count": null,
   "id": "b7c09072-049d-43e0-94c1-759959cfc032",
   "metadata": {},
   "outputs": [],
   "source": []
  },
  {
   "cell_type": "code",
   "execution_count": null,
   "id": "d6ffff10-79f8-4a8b-9c8c-3c66eb066016",
   "metadata": {},
   "outputs": [],
   "source": []
  },
  {
   "cell_type": "code",
   "execution_count": null,
   "id": "3462fcc7-fb63-487f-a3cd-c73f63987b57",
   "metadata": {},
   "outputs": [],
   "source": []
  },
  {
   "cell_type": "code",
   "execution_count": null,
   "id": "7efaca63-a33f-49a6-8025-f0b23c5a9797",
   "metadata": {},
   "outputs": [],
   "source": []
  },
  {
   "cell_type": "code",
   "execution_count": null,
   "id": "df33300f-9a03-4beb-a791-e6ac87a6ddf4",
   "metadata": {},
   "outputs": [],
   "source": []
  }
 ],
 "metadata": {
  "kernelspec": {
   "display_name": "Python [conda env:base] *",
   "language": "python",
   "name": "conda-base-py"
  },
  "language_info": {
   "codemirror_mode": {
    "name": "ipython",
    "version": 3
   },
   "file_extension": ".py",
   "mimetype": "text/x-python",
   "name": "python",
   "nbconvert_exporter": "python",
   "pygments_lexer": "ipython3",
   "version": "3.13.5"
  }
 },
 "nbformat": 4,
 "nbformat_minor": 5
}
